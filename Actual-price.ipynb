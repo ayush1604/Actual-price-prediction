{
 "cells": [
  {
   "cell_type": "code",
   "execution_count": 1,
   "id": "e992cbc8",
   "metadata": {},
   "outputs": [
    {
     "name": "stderr",
     "output_type": "stream",
     "text": [
      "In C:\\Users\\Ayush\\miniconda3\\envs\\6.86x\\lib\\site-packages\\matplotlib\\mpl-data\\stylelib\\_classic_test.mplstyle: \n",
      "The text.latex.preview rcparam was deprecated in Matplotlib 3.3 and will be removed two minor releases later.\n",
      "In C:\\Users\\Ayush\\miniconda3\\envs\\6.86x\\lib\\site-packages\\matplotlib\\mpl-data\\stylelib\\_classic_test.mplstyle: \n",
      "The mathtext.fallback_to_cm rcparam was deprecated in Matplotlib 3.3 and will be removed two minor releases later.\n",
      "In C:\\Users\\Ayush\\miniconda3\\envs\\6.86x\\lib\\site-packages\\matplotlib\\mpl-data\\stylelib\\_classic_test.mplstyle: Support for setting the 'mathtext.fallback_to_cm' rcParam is deprecated since 3.3 and will be removed two minor releases later; use 'mathtext.fallback : 'cm' instead.\n",
      "In C:\\Users\\Ayush\\miniconda3\\envs\\6.86x\\lib\\site-packages\\matplotlib\\mpl-data\\stylelib\\_classic_test.mplstyle: \n",
      "The validate_bool_maybe_none function was deprecated in Matplotlib 3.3 and will be removed two minor releases later.\n",
      "In C:\\Users\\Ayush\\miniconda3\\envs\\6.86x\\lib\\site-packages\\matplotlib\\mpl-data\\stylelib\\_classic_test.mplstyle: \n",
      "The savefig.jpeg_quality rcparam was deprecated in Matplotlib 3.3 and will be removed two minor releases later.\n",
      "In C:\\Users\\Ayush\\miniconda3\\envs\\6.86x\\lib\\site-packages\\matplotlib\\mpl-data\\stylelib\\_classic_test.mplstyle: \n",
      "The keymap.all_axes rcparam was deprecated in Matplotlib 3.3 and will be removed two minor releases later.\n",
      "In C:\\Users\\Ayush\\miniconda3\\envs\\6.86x\\lib\\site-packages\\matplotlib\\mpl-data\\stylelib\\_classic_test.mplstyle: \n",
      "The animation.avconv_path rcparam was deprecated in Matplotlib 3.3 and will be removed two minor releases later.\n",
      "In C:\\Users\\Ayush\\miniconda3\\envs\\6.86x\\lib\\site-packages\\matplotlib\\mpl-data\\stylelib\\_classic_test.mplstyle: \n",
      "The animation.avconv_args rcparam was deprecated in Matplotlib 3.3 and will be removed two minor releases later.\n"
     ]
    }
   ],
   "source": [
    "import pandas as pd\n",
    "import numpy as np\n",
    "import matplotlib.pyplot as plt\n",
    "import seaborn as sns"
   ]
  },
  {
   "cell_type": "code",
   "execution_count": 2,
   "id": "94362f6c",
   "metadata": {},
   "outputs": [
    {
     "data": {
      "text/html": [
       "<div>\n",
       "<style scoped>\n",
       "    .dataframe tbody tr th:only-of-type {\n",
       "        vertical-align: middle;\n",
       "    }\n",
       "\n",
       "    .dataframe tbody tr th {\n",
       "        vertical-align: top;\n",
       "    }\n",
       "\n",
       "    .dataframe thead th {\n",
       "        text-align: right;\n",
       "    }\n",
       "</style>\n",
       "<table border=\"1\" class=\"dataframe\">\n",
       "  <thead>\n",
       "    <tr style=\"text-align: right;\">\n",
       "      <th></th>\n",
       "      <th>id</th>\n",
       "      <th>title</th>\n",
       "      <th>Rating</th>\n",
       "      <th>maincateg</th>\n",
       "      <th>platform</th>\n",
       "      <th>price1</th>\n",
       "      <th>actprice1</th>\n",
       "      <th>Offer %</th>\n",
       "      <th>norating1</th>\n",
       "      <th>noreviews1</th>\n",
       "      <th>star_5f</th>\n",
       "      <th>star_4f</th>\n",
       "      <th>star_3f</th>\n",
       "      <th>star_2f</th>\n",
       "      <th>star_1f</th>\n",
       "      <th>fulfilled1</th>\n",
       "    </tr>\n",
       "  </thead>\n",
       "  <tbody>\n",
       "    <tr>\n",
       "      <th>0</th>\n",
       "      <td>16695</td>\n",
       "      <td>Fashionable &amp; Comfortable Bellies For Women  (...</td>\n",
       "      <td>3.9</td>\n",
       "      <td>Women</td>\n",
       "      <td>Flipkart</td>\n",
       "      <td>698</td>\n",
       "      <td>999</td>\n",
       "      <td>30.13%</td>\n",
       "      <td>38.0</td>\n",
       "      <td>7.0</td>\n",
       "      <td>17.0</td>\n",
       "      <td>9.0</td>\n",
       "      <td>6.0</td>\n",
       "      <td>3</td>\n",
       "      <td>3</td>\n",
       "      <td>0</td>\n",
       "    </tr>\n",
       "    <tr>\n",
       "      <th>1</th>\n",
       "      <td>5120</td>\n",
       "      <td>Combo Pack of 4 Casual Shoes Sneakers For Men ...</td>\n",
       "      <td>3.8</td>\n",
       "      <td>Men</td>\n",
       "      <td>Flipkart</td>\n",
       "      <td>999</td>\n",
       "      <td>1999</td>\n",
       "      <td>50.03%</td>\n",
       "      <td>531.0</td>\n",
       "      <td>69.0</td>\n",
       "      <td>264.0</td>\n",
       "      <td>92.0</td>\n",
       "      <td>73.0</td>\n",
       "      <td>29</td>\n",
       "      <td>73</td>\n",
       "      <td>1</td>\n",
       "    </tr>\n",
       "    <tr>\n",
       "      <th>2</th>\n",
       "      <td>18391</td>\n",
       "      <td>Cilia Mode Leo Sneakers For Women  (White)</td>\n",
       "      <td>4.4</td>\n",
       "      <td>Women</td>\n",
       "      <td>Flipkart</td>\n",
       "      <td>2749</td>\n",
       "      <td>4999</td>\n",
       "      <td>45.01%</td>\n",
       "      <td>17.0</td>\n",
       "      <td>4.0</td>\n",
       "      <td>11.0</td>\n",
       "      <td>3.0</td>\n",
       "      <td>2.0</td>\n",
       "      <td>1</td>\n",
       "      <td>0</td>\n",
       "      <td>1</td>\n",
       "    </tr>\n",
       "    <tr>\n",
       "      <th>3</th>\n",
       "      <td>495</td>\n",
       "      <td>Men Black Sports Sandal</td>\n",
       "      <td>4.2</td>\n",
       "      <td>Men</td>\n",
       "      <td>Flipkart</td>\n",
       "      <td>518</td>\n",
       "      <td>724</td>\n",
       "      <td>15.85%</td>\n",
       "      <td>46413.0</td>\n",
       "      <td>6229.0</td>\n",
       "      <td>1045.0</td>\n",
       "      <td>12416.0</td>\n",
       "      <td>5352.0</td>\n",
       "      <td>701</td>\n",
       "      <td>4595</td>\n",
       "      <td>1</td>\n",
       "    </tr>\n",
       "    <tr>\n",
       "      <th>4</th>\n",
       "      <td>16408</td>\n",
       "      <td>Men Green Sports Sandal</td>\n",
       "      <td>3.9</td>\n",
       "      <td>Men</td>\n",
       "      <td>Flipkart</td>\n",
       "      <td>1379</td>\n",
       "      <td>2299</td>\n",
       "      <td>40.02%</td>\n",
       "      <td>77.0</td>\n",
       "      <td>3.0</td>\n",
       "      <td>35.0</td>\n",
       "      <td>21.0</td>\n",
       "      <td>7.0</td>\n",
       "      <td>7</td>\n",
       "      <td>7</td>\n",
       "      <td>1</td>\n",
       "    </tr>\n",
       "  </tbody>\n",
       "</table>\n",
       "</div>"
      ],
      "text/plain": [
       "      id                                              title  Rating maincateg  \\\n",
       "0  16695  Fashionable & Comfortable Bellies For Women  (...     3.9     Women   \n",
       "1   5120  Combo Pack of 4 Casual Shoes Sneakers For Men ...     3.8       Men   \n",
       "2  18391         Cilia Mode Leo Sneakers For Women  (White)     4.4     Women   \n",
       "3    495                            Men Black Sports Sandal     4.2       Men   \n",
       "4  16408                            Men Green Sports Sandal     3.9       Men   \n",
       "\n",
       "   platform  price1  actprice1 Offer %  norating1  noreviews1  star_5f  \\\n",
       "0  Flipkart     698        999  30.13%       38.0         7.0     17.0   \n",
       "1  Flipkart     999       1999  50.03%      531.0        69.0    264.0   \n",
       "2  Flipkart    2749       4999  45.01%       17.0         4.0     11.0   \n",
       "3  Flipkart     518        724  15.85%    46413.0      6229.0   1045.0   \n",
       "4  Flipkart    1379       2299  40.02%       77.0         3.0     35.0   \n",
       "\n",
       "   star_4f  star_3f  star_2f  star_1f  fulfilled1  \n",
       "0      9.0      6.0        3        3           0  \n",
       "1     92.0     73.0       29       73           1  \n",
       "2      3.0      2.0        1        0           1  \n",
       "3  12416.0   5352.0      701     4595           1  \n",
       "4     21.0      7.0        7        7           1  "
      ]
     },
     "execution_count": 2,
     "metadata": {},
     "output_type": "execute_result"
    }
   ],
   "source": [
    "data = pd.read_csv('./train.csv')\n",
    "data.head()"
   ]
  },
  {
   "cell_type": "code",
   "execution_count": 3,
   "id": "4fa45aac",
   "metadata": {},
   "outputs": [
    {
     "data": {
      "text/plain": [
       "id              0\n",
       "title           0\n",
       "Rating          0\n",
       "maincateg     526\n",
       "platform        0\n",
       "price1          0\n",
       "actprice1       0\n",
       "Offer %         0\n",
       "norating1     678\n",
       "noreviews1    578\n",
       "star_5f       588\n",
       "star_4f       539\n",
       "star_3f       231\n",
       "star_2f         0\n",
       "star_1f         0\n",
       "fulfilled1      0\n",
       "dtype: int64"
      ]
     },
     "execution_count": 3,
     "metadata": {},
     "output_type": "execute_result"
    }
   ],
   "source": [
    "data.isnull().sum()"
   ]
  },
  {
   "cell_type": "code",
   "execution_count": null,
   "id": "7a2bf376",
   "metadata": {},
   "outputs": [],
   "source": []
  },
  {
   "cell_type": "code",
   "execution_count": 4,
   "id": "7abe2417",
   "metadata": {},
   "outputs": [],
   "source": [
    "dummis1 = pd.get_dummies(data['maincateg'],prefix='maincateg')\n",
    "\n",
    "\n",
    "\n",
    "data  = pd.concat([data,dummis1.iloc[:,1:]],axis=1)\n",
    "\n",
    "dummis2 = pd.get_dummies(data['platform'],prefix='platform')\n",
    "data  = pd.concat([data,dummis2.iloc[:,1:]],axis=1)\n",
    "\n",
    "data.drop('platform',axis=1,inplace=True)\n",
    "data.drop('maincateg',axis=1,inplace=True)\n",
    "#df_train.dropna(inplace=True)"
   ]
  },
  {
   "cell_type": "code",
   "execution_count": 5,
   "id": "020d4491",
   "metadata": {},
   "outputs": [
    {
     "data": {
      "text/plain": [
       "id                     0\n",
       "title                  0\n",
       "Rating                 0\n",
       "price1                 0\n",
       "actprice1              0\n",
       "Offer %                0\n",
       "norating1            678\n",
       "noreviews1           578\n",
       "star_5f              588\n",
       "star_4f              539\n",
       "star_3f              231\n",
       "star_2f                0\n",
       "star_1f                0\n",
       "fulfilled1             0\n",
       "maincateg_Women        0\n",
       "platform_Flipkart      0\n",
       "dtype: int64"
      ]
     },
     "execution_count": 5,
     "metadata": {},
     "output_type": "execute_result"
    }
   ],
   "source": [
    "data.isna().sum()"
   ]
  },
  {
   "cell_type": "code",
   "execution_count": 6,
   "id": "8127fd6d",
   "metadata": {},
   "outputs": [],
   "source": [
    "data['norating1'] = data['norating1'].fillna(data['norating1'].mean())\n",
    "data['noreviews1'] = data['noreviews1'].fillna(data['noreviews1'].mean())\n",
    "data['star_5f'] = data['star_5f'].fillna(data['star_5f'].mean())\n",
    "data['star_4f'] = data['star_4f'].fillna(data['star_4f'].mean())\n",
    "data['star_3f'] = data['star_3f'].fillna(data['star_3f'].mean())\n",
    "data['star_2f'] = data['star_2f'].fillna(data['star_2f'].mean())\n",
    "data['star_1f'] = data['star_1f'].fillna(data['star_1f'].mean())"
   ]
  },
  {
   "cell_type": "code",
   "execution_count": 7,
   "id": "c22e2938",
   "metadata": {},
   "outputs": [
    {
     "name": "stdout",
     "output_type": "stream",
     "text": [
      "id                   0\n",
      "title                0\n",
      "Rating               0\n",
      "price1               0\n",
      "actprice1            0\n",
      "Offer %              0\n",
      "norating1            0\n",
      "noreviews1           0\n",
      "star_5f              0\n",
      "star_4f              0\n",
      "star_3f              0\n",
      "star_2f              0\n",
      "star_1f              0\n",
      "fulfilled1           0\n",
      "maincateg_Women      0\n",
      "platform_Flipkart    0\n",
      "dtype: int64\n"
     ]
    },
    {
     "data": {
      "text/plain": [
       "(15730, 16)"
      ]
     },
     "execution_count": 7,
     "metadata": {},
     "output_type": "execute_result"
    }
   ],
   "source": [
    "print(data.isna().sum())\n",
    "data.shape"
   ]
  },
  {
   "cell_type": "code",
   "execution_count": 8,
   "id": "3d854aff",
   "metadata": {},
   "outputs": [
    {
     "data": {
      "text/plain": [
       "Index(['id', 'title', 'Rating', 'price1', 'actprice1', 'Offer %', 'norating1',\n",
       "       'noreviews1', 'star_5f', 'star_4f', 'star_3f', 'star_2f', 'star_1f',\n",
       "       'fulfilled1', 'maincateg_Women', 'platform_Flipkart'],\n",
       "      dtype='object')"
      ]
     },
     "execution_count": 8,
     "metadata": {},
     "output_type": "execute_result"
    }
   ],
   "source": [
    "data.columns"
   ]
  },
  {
   "cell_type": "code",
   "execution_count": 9,
   "id": "4d807af9",
   "metadata": {},
   "outputs": [
    {
     "data": {
      "text/plain": [
       "id                     int64\n",
       "title                 object\n",
       "Rating               float64\n",
       "price1                 int64\n",
       "actprice1              int64\n",
       "Offer %               object\n",
       "norating1            float64\n",
       "noreviews1           float64\n",
       "star_5f              float64\n",
       "star_4f              float64\n",
       "star_3f              float64\n",
       "star_2f                int64\n",
       "star_1f                int64\n",
       "fulfilled1             int64\n",
       "maincateg_Women        uint8\n",
       "platform_Flipkart      uint8\n",
       "dtype: object"
      ]
     },
     "execution_count": 9,
     "metadata": {},
     "output_type": "execute_result"
    }
   ],
   "source": [
    "data.dtypes"
   ]
  },
  {
   "cell_type": "code",
   "execution_count": 10,
   "id": "4b5f4e26",
   "metadata": {},
   "outputs": [
    {
     "data": {
      "text/plain": [
       "<AxesSubplot:xlabel='fulfilled1', ylabel='maincateg_Women'>"
      ]
     },
     "execution_count": 10,
     "metadata": {},
     "output_type": "execute_result"
    },
    {
     "data": {
      "image/png": "[encoded data removed]",
      "text/plain": [
       "<Figure size 432x288 with 1 Axes>"
      ]
     },
     "metadata": {
      "needs_background": "light"
     },
     "output_type": "display_data"
    }
   ],
   "source": [
    "sns.barplot(x = data[\"fulfilled1\"], y = data[\"maincateg_Women\"])"
   ]
  },
  {
   "cell_type": "code",
   "execution_count": 11,
   "id": "af3ba001",
   "metadata": {},
   "outputs": [],
   "source": [
    "X_train = data[['Rating', 'actprice1', 'norating1', 'noreviews1', 'star_5f', 'star_4f','star_3f', 'star_2f', 'star_1f', 'fulfilled1',\n",
    "       'maincateg_Women', 'platform_Flipkart']]\n",
    "y_train = data['price1']"
   ]
  },
  {
   "cell_type": "code",
   "execution_count": 12,
   "id": "71abf4b3",
   "metadata": {},
   "outputs": [],
   "source": [
    "from sklearn.preprocessing import StandardScaler\n",
    "sc = StandardScaler()\n",
    "\n",
    "X_scaled = sc.fit_transform(X_train)"
   ]
  },
  {
   "cell_type": "code",
   "execution_count": 13,
   "id": "784dd39a",
   "metadata": {},
   "outputs": [
    {
     "data": {
      "text/plain": [
       "LinearRegression(copy_X=True, fit_intercept=True, n_jobs=None, normalize=False)"
      ]
     },
     "execution_count": 13,
     "metadata": {},
     "output_type": "execute_result"
    }
   ],
   "source": [
    "from sklearn.linear_model import LinearRegression\n",
    "lm = LinearRegression()\n",
    "lm.fit(X_scaled,y_train)"
   ]
  },
  {
   "cell_type": "code",
   "execution_count": 14,
   "id": "ed85fc8d",
   "metadata": {},
   "outputs": [
    {
     "data": {
      "text/plain": [
       "0.8026388541741781"
      ]
     },
     "execution_count": 14,
     "metadata": {},
     "output_type": "execute_result"
    }
   ],
   "source": [
    "lm.score(X_scaled,y_train)"
   ]
  },
  {
   "cell_type": "code",
   "execution_count": null,
   "id": "9833190e",
   "metadata": {},
   "outputs": [],
   "source": []
  },
  {
   "cell_type": "code",
   "execution_count": null,
   "id": "36e27063",
   "metadata": {},
   "outputs": [],
   "source": []
  },
  {
   "cell_type": "code",
   "execution_count": null,
   "id": "341904fb",
   "metadata": {},
   "outputs": [],
   "source": []
  },
  {
   "cell_type": "code",
   "execution_count": 24,
   "id": "3306aec4",
   "metadata": {},
   "outputs": [],
   "source": [
    "df_test = pd.read_csv('./test.csv')"
   ]
  },
  {
   "cell_type": "code",
   "execution_count": 25,
   "id": "ad9b6fde",
   "metadata": {},
   "outputs": [],
   "source": [
    "dummis3 = pd.get_dummies(df_test['maincateg'],prefix='maincateg')\n",
    "\n",
    "\n",
    "\n",
    "df_test  = pd.concat([df_test,dummis3.iloc[:,1:]],axis=1)\n",
    "\n",
    "dummis4 = pd.get_dummies(df_test['platform'],prefix='platform')\n",
    "df_test  = pd.concat([df_test,dummis4.iloc[:,1:]],axis=1)\n",
    "\n",
    "df_test.drop('platform',axis=1,inplace=True)\n",
    "df_test.drop('maincateg',axis=1,inplace=True)\n",
    "#df_test.dropna(inplace=True)"
   ]
  },
  {
   "cell_type": "code",
   "execution_count": 26,
   "id": "158516ed",
   "metadata": {},
   "outputs": [],
   "source": [
    "df_test['norating1'] = df_test['norating1'].fillna(df_test['norating1'].mean())\n",
    "df_test['noreviews1'] = df_test['noreviews1'].fillna(df_test['noreviews1'].mean())\n",
    "df_test['star_5f'] = df_test['star_5f'].fillna(df_test['star_5f'].mean())\n",
    "df_test['star_4f'] = df_test['star_4f'].fillna(df_test['star_4f'].mean())\n",
    "df_test['star_3f'] = df_test['star_3f'].fillna(df_test['star_3f'].mean())\n",
    "df_test['star_2f'] = df_test['star_2f'].fillna(df_test['star_2f'].mean())\n",
    "df_test['star_1f'] = df_test['star_1f'].fillna(df_test['star_1f'].mean())\n",
    "df_test['Rating'] = df_test['Rating'].fillna(df_test['Rating'].mean())"
   ]
  },
  {
   "cell_type": "code",
   "execution_count": 27,
   "id": "f5f73c16",
   "metadata": {},
   "outputs": [
    {
     "data": {
      "text/plain": [
       "5244"
      ]
     },
     "execution_count": 27,
     "metadata": {},
     "output_type": "execute_result"
    }
   ],
   "source": [
    "len(df_test)"
   ]
  },
  {
   "cell_type": "code",
   "execution_count": 28,
   "id": "51c4660e",
   "metadata": {},
   "outputs": [],
   "source": [
    "df_id = df_test['id']"
   ]
  },
  {
   "cell_type": "code",
   "execution_count": 29,
   "id": "a3483e7c",
   "metadata": {},
   "outputs": [],
   "source": [
    "df_test.drop('id',axis=1,inplace=True)"
   ]
  },
  {
   "cell_type": "code",
   "execution_count": 30,
   "id": "83c41a3f",
   "metadata": {},
   "outputs": [
    {
     "data": {
      "text/plain": [
       "title                0\n",
       "Rating               0\n",
       "actprice1            0\n",
       "norating1            0\n",
       "noreviews1           0\n",
       "star_5f              0\n",
       "star_4f              0\n",
       "star_3f              0\n",
       "star_2f              0\n",
       "star_1f              0\n",
       "fulfilled1           0\n",
       "maincateg_Women      0\n",
       "platform_Flipkart    0\n",
       "dtype: int64"
      ]
     },
     "execution_count": 30,
     "metadata": {},
     "output_type": "execute_result"
    }
   ],
   "source": [
    "df_test.isnull().sum()"
   ]
  },
  {
   "cell_type": "code",
   "execution_count": 31,
   "id": "6cfc968d",
   "metadata": {},
   "outputs": [
    {
     "data": {
      "text/plain": [
       "Index(['id', 'title', 'Rating', 'price1', 'actprice1', 'Offer %', 'norating1',\n",
       "       'noreviews1', 'star_5f', 'star_4f', 'star_3f', 'star_2f', 'star_1f',\n",
       "       'fulfilled1', 'maincateg_Women', 'platform_Flipkart'],\n",
       "      dtype='object')"
      ]
     },
     "execution_count": 31,
     "metadata": {},
     "output_type": "execute_result"
    }
   ],
   "source": [
    "data.columns"
   ]
  },
  {
   "cell_type": "code",
   "execution_count": 32,
   "id": "40768f73",
   "metadata": {},
   "outputs": [],
   "source": [
    "X_test = df_test[['Rating', 'actprice1', 'norating1', 'noreviews1', 'star_5f', 'star_4f',\n",
    "       'star_3f', 'star_2f', 'star_1f', 'fulfilled1',\n",
    "       'maincateg_Women', 'platform_Flipkart']]"
   ]
  },
  {
   "cell_type": "code",
   "execution_count": 25,
   "id": "21c720db",
   "metadata": {},
   "outputs": [],
   "source": [
    "x_test_scale = sc.fit_transform(X_test)"
   ]
  },
  {
   "cell_type": "code",
   "execution_count": 26,
   "id": "99d12473",
   "metadata": {},
   "outputs": [],
   "source": [
    "pre =lm.predict(x_test_scale)"
   ]
  },
  {
   "cell_type": "code",
   "execution_count": 27,
   "id": "82ce7301",
   "metadata": {},
   "outputs": [
    {
     "data": {
      "text/plain": [
       "(5244, 12)"
      ]
     },
     "execution_count": 27,
     "metadata": {},
     "output_type": "execute_result"
    }
   ],
   "source": [
    "x_test_scale.shape"
   ]
  },
  {
   "cell_type": "code",
   "execution_count": 28,
   "id": "3aba97d3",
   "metadata": {},
   "outputs": [
    {
     "data": {
      "text/plain": [
       "7132.329580808085"
      ]
     },
     "execution_count": 28,
     "metadata": {},
     "output_type": "execute_result"
    }
   ],
   "source": [
    "pre.max()"
   ]
  },
  {
   "cell_type": "code",
   "execution_count": 29,
   "id": "3182666b",
   "metadata": {},
   "outputs": [],
   "source": [
    "pre_id = pd.DataFrame(np.round(pre,decimals=3),columns=['price1'])"
   ]
  },
  {
   "cell_type": "code",
   "execution_count": 30,
   "id": "340f934a",
   "metadata": {},
   "outputs": [
    {
     "data": {
      "text/html": [
       "<div>\n",
       "<style scoped>\n",
       "    .dataframe tbody tr th:only-of-type {\n",
       "        vertical-align: middle;\n",
       "    }\n",
       "\n",
       "    .dataframe tbody tr th {\n",
       "        vertical-align: top;\n",
       "    }\n",
       "\n",
       "    .dataframe thead th {\n",
       "        text-align: right;\n",
       "    }\n",
       "</style>\n",
       "<table border=\"1\" class=\"dataframe\">\n",
       "  <thead>\n",
       "    <tr style=\"text-align: right;\">\n",
       "      <th></th>\n",
       "      <th>price1</th>\n",
       "    </tr>\n",
       "  </thead>\n",
       "  <tbody>\n",
       "    <tr>\n",
       "      <th>0</th>\n",
       "      <td>465.565</td>\n",
       "    </tr>\n",
       "    <tr>\n",
       "      <th>1</th>\n",
       "      <td>300.875</td>\n",
       "    </tr>\n",
       "    <tr>\n",
       "      <th>2</th>\n",
       "      <td>519.981</td>\n",
       "    </tr>\n",
       "    <tr>\n",
       "      <th>3</th>\n",
       "      <td>1405.264</td>\n",
       "    </tr>\n",
       "    <tr>\n",
       "      <th>4</th>\n",
       "      <td>466.174</td>\n",
       "    </tr>\n",
       "    <tr>\n",
       "      <th>...</th>\n",
       "      <td>...</td>\n",
       "    </tr>\n",
       "    <tr>\n",
       "      <th>5239</th>\n",
       "      <td>419.996</td>\n",
       "    </tr>\n",
       "    <tr>\n",
       "      <th>5240</th>\n",
       "      <td>903.006</td>\n",
       "    </tr>\n",
       "    <tr>\n",
       "      <th>5241</th>\n",
       "      <td>438.408</td>\n",
       "    </tr>\n",
       "    <tr>\n",
       "      <th>5242</th>\n",
       "      <td>227.238</td>\n",
       "    </tr>\n",
       "    <tr>\n",
       "      <th>5243</th>\n",
       "      <td>680.431</td>\n",
       "    </tr>\n",
       "  </tbody>\n",
       "</table>\n",
       "<p>5244 rows × 1 columns</p>\n",
       "</div>"
      ],
      "text/plain": [
       "        price1\n",
       "0      465.565\n",
       "1      300.875\n",
       "2      519.981\n",
       "3     1405.264\n",
       "4      466.174\n",
       "...        ...\n",
       "5239   419.996\n",
       "5240   903.006\n",
       "5241   438.408\n",
       "5242   227.238\n",
       "5243   680.431\n",
       "\n",
       "[5244 rows x 1 columns]"
      ]
     },
     "execution_count": 30,
     "metadata": {},
     "output_type": "execute_result"
    }
   ],
   "source": [
    "pre_id"
   ]
  },
  {
   "cell_type": "code",
   "execution_count": 31,
   "id": "b5927b98",
   "metadata": {},
   "outputs": [],
   "source": [
    "pre_id['id'] = df_id[::]"
   ]
  },
  {
   "cell_type": "code",
   "execution_count": 32,
   "id": "bf10f007",
   "metadata": {},
   "outputs": [
    {
     "data": {
      "text/html": [
       "<div>\n",
       "<style scoped>\n",
       "    .dataframe tbody tr th:only-of-type {\n",
       "        vertical-align: middle;\n",
       "    }\n",
       "\n",
       "    .dataframe tbody tr th {\n",
       "        vertical-align: top;\n",
       "    }\n",
       "\n",
       "    .dataframe thead th {\n",
       "        text-align: right;\n",
       "    }\n",
       "</style>\n",
       "<table border=\"1\" class=\"dataframe\">\n",
       "  <thead>\n",
       "    <tr style=\"text-align: right;\">\n",
       "      <th></th>\n",
       "      <th>price1</th>\n",
       "      <th>id</th>\n",
       "    </tr>\n",
       "  </thead>\n",
       "  <tbody>\n",
       "    <tr>\n",
       "      <th>0</th>\n",
       "      <td>465.565</td>\n",
       "      <td>2242</td>\n",
       "    </tr>\n",
       "    <tr>\n",
       "      <th>1</th>\n",
       "      <td>300.875</td>\n",
       "      <td>20532</td>\n",
       "    </tr>\n",
       "    <tr>\n",
       "      <th>2</th>\n",
       "      <td>519.981</td>\n",
       "      <td>10648</td>\n",
       "    </tr>\n",
       "    <tr>\n",
       "      <th>3</th>\n",
       "      <td>1405.264</td>\n",
       "      <td>20677</td>\n",
       "    </tr>\n",
       "    <tr>\n",
       "      <th>4</th>\n",
       "      <td>466.174</td>\n",
       "      <td>12593</td>\n",
       "    </tr>\n",
       "    <tr>\n",
       "      <th>...</th>\n",
       "      <td>...</td>\n",
       "      <td>...</td>\n",
       "    </tr>\n",
       "    <tr>\n",
       "      <th>5239</th>\n",
       "      <td>419.996</td>\n",
       "      <td>14033</td>\n",
       "    </tr>\n",
       "    <tr>\n",
       "      <th>5240</th>\n",
       "      <td>903.006</td>\n",
       "      <td>297</td>\n",
       "    </tr>\n",
       "    <tr>\n",
       "      <th>5241</th>\n",
       "      <td>438.408</td>\n",
       "      <td>18733</td>\n",
       "    </tr>\n",
       "    <tr>\n",
       "      <th>5242</th>\n",
       "      <td>227.238</td>\n",
       "      <td>6162</td>\n",
       "    </tr>\n",
       "    <tr>\n",
       "      <th>5243</th>\n",
       "      <td>680.431</td>\n",
       "      <td>13574</td>\n",
       "    </tr>\n",
       "  </tbody>\n",
       "</table>\n",
       "<p>5244 rows × 2 columns</p>\n",
       "</div>"
      ],
      "text/plain": [
       "        price1     id\n",
       "0      465.565   2242\n",
       "1      300.875  20532\n",
       "2      519.981  10648\n",
       "3     1405.264  20677\n",
       "4      466.174  12593\n",
       "...        ...    ...\n",
       "5239   419.996  14033\n",
       "5240   903.006    297\n",
       "5241   438.408  18733\n",
       "5242   227.238   6162\n",
       "5243   680.431  13574\n",
       "\n",
       "[5244 rows x 2 columns]"
      ]
     },
     "execution_count": 32,
     "metadata": {},
     "output_type": "execute_result"
    }
   ],
   "source": [
    "pre_id"
   ]
  },
  {
   "cell_type": "code",
   "execution_count": 33,
   "id": "bbdf5cbd",
   "metadata": {},
   "outputs": [],
   "source": [
    "pre_id = pre_id[['id', 'price1']]"
   ]
  },
  {
   "cell_type": "code",
   "execution_count": 34,
   "id": "12cf2e3f",
   "metadata": {},
   "outputs": [
    {
     "data": {
      "text/html": [
       "<div>\n",
       "<style scoped>\n",
       "    .dataframe tbody tr th:only-of-type {\n",
       "        vertical-align: middle;\n",
       "    }\n",
       "\n",
       "    .dataframe tbody tr th {\n",
       "        vertical-align: top;\n",
       "    }\n",
       "\n",
       "    .dataframe thead th {\n",
       "        text-align: right;\n",
       "    }\n",
       "</style>\n",
       "<table border=\"1\" class=\"dataframe\">\n",
       "  <thead>\n",
       "    <tr style=\"text-align: right;\">\n",
       "      <th></th>\n",
       "      <th>id</th>\n",
       "      <th>price1</th>\n",
       "    </tr>\n",
       "  </thead>\n",
       "  <tbody>\n",
       "    <tr>\n",
       "      <th>0</th>\n",
       "      <td>2242</td>\n",
       "      <td>465.565</td>\n",
       "    </tr>\n",
       "    <tr>\n",
       "      <th>1</th>\n",
       "      <td>20532</td>\n",
       "      <td>300.875</td>\n",
       "    </tr>\n",
       "    <tr>\n",
       "      <th>2</th>\n",
       "      <td>10648</td>\n",
       "      <td>519.981</td>\n",
       "    </tr>\n",
       "    <tr>\n",
       "      <th>3</th>\n",
       "      <td>20677</td>\n",
       "      <td>1405.264</td>\n",
       "    </tr>\n",
       "    <tr>\n",
       "      <th>4</th>\n",
       "      <td>12593</td>\n",
       "      <td>466.174</td>\n",
       "    </tr>\n",
       "    <tr>\n",
       "      <th>...</th>\n",
       "      <td>...</td>\n",
       "      <td>...</td>\n",
       "    </tr>\n",
       "    <tr>\n",
       "      <th>5239</th>\n",
       "      <td>14033</td>\n",
       "      <td>419.996</td>\n",
       "    </tr>\n",
       "    <tr>\n",
       "      <th>5240</th>\n",
       "      <td>297</td>\n",
       "      <td>903.006</td>\n",
       "    </tr>\n",
       "    <tr>\n",
       "      <th>5241</th>\n",
       "      <td>18733</td>\n",
       "      <td>438.408</td>\n",
       "    </tr>\n",
       "    <tr>\n",
       "      <th>5242</th>\n",
       "      <td>6162</td>\n",
       "      <td>227.238</td>\n",
       "    </tr>\n",
       "    <tr>\n",
       "      <th>5243</th>\n",
       "      <td>13574</td>\n",
       "      <td>680.431</td>\n",
       "    </tr>\n",
       "  </tbody>\n",
       "</table>\n",
       "<p>5244 rows × 2 columns</p>\n",
       "</div>"
      ],
      "text/plain": [
       "         id    price1\n",
       "0      2242   465.565\n",
       "1     20532   300.875\n",
       "2     10648   519.981\n",
       "3     20677  1405.264\n",
       "4     12593   466.174\n",
       "...     ...       ...\n",
       "5239  14033   419.996\n",
       "5240    297   903.006\n",
       "5241  18733   438.408\n",
       "5242   6162   227.238\n",
       "5243  13574   680.431\n",
       "\n",
       "[5244 rows x 2 columns]"
      ]
     },
     "execution_count": 34,
     "metadata": {},
     "output_type": "execute_result"
    }
   ],
   "source": [
    "pre_id"
   ]
  },
  {
   "cell_type": "code",
   "execution_count": 35,
   "id": "1c01a0f0",
   "metadata": {},
   "outputs": [],
   "source": [
    "pre_id.to_csv(r'.\\hack_submission_1.csv',index=False)\n"
   ]
  },
  {
   "cell_type": "code",
   "execution_count": null,
   "id": "e6bb72c0",
   "metadata": {},
   "outputs": [],
   "source": []
  },
  {
   "cell_type": "code",
   "execution_count": null,
   "id": "daab39f9",
   "metadata": {},
   "outputs": [],
   "source": []
  },
  {
   "cell_type": "markdown",
   "id": "c7c78462",
   "metadata": {},
   "source": [
    "## Tensorflow use karke"
   ]
  },
  {
   "cell_type": "code",
   "execution_count": 36,
   "id": "b2c89ff8",
   "metadata": {},
   "outputs": [
    {
     "data": {
      "text/html": [
       "<div>\n",
       "<style scoped>\n",
       "    .dataframe tbody tr th:only-of-type {\n",
       "        vertical-align: middle;\n",
       "    }\n",
       "\n",
       "    .dataframe tbody tr th {\n",
       "        vertical-align: top;\n",
       "    }\n",
       "\n",
       "    .dataframe thead th {\n",
       "        text-align: right;\n",
       "    }\n",
       "</style>\n",
       "<table border=\"1\" class=\"dataframe\">\n",
       "  <thead>\n",
       "    <tr style=\"text-align: right;\">\n",
       "      <th></th>\n",
       "      <th>Rating</th>\n",
       "      <th>actprice1</th>\n",
       "      <th>norating1</th>\n",
       "      <th>noreviews1</th>\n",
       "      <th>star_5f</th>\n",
       "      <th>star_4f</th>\n",
       "      <th>star_3f</th>\n",
       "      <th>star_2f</th>\n",
       "      <th>star_1f</th>\n",
       "      <th>fulfilled1</th>\n",
       "      <th>maincateg_Women</th>\n",
       "      <th>platform_Flipkart</th>\n",
       "    </tr>\n",
       "  </thead>\n",
       "  <tbody>\n",
       "    <tr>\n",
       "      <th>0</th>\n",
       "      <td>3.9</td>\n",
       "      <td>999</td>\n",
       "      <td>38.0</td>\n",
       "      <td>7.0</td>\n",
       "      <td>17.0</td>\n",
       "      <td>9.0</td>\n",
       "      <td>6.0</td>\n",
       "      <td>3</td>\n",
       "      <td>3</td>\n",
       "      <td>0</td>\n",
       "      <td>1</td>\n",
       "      <td>1</td>\n",
       "    </tr>\n",
       "    <tr>\n",
       "      <th>1</th>\n",
       "      <td>3.8</td>\n",
       "      <td>1999</td>\n",
       "      <td>531.0</td>\n",
       "      <td>69.0</td>\n",
       "      <td>264.0</td>\n",
       "      <td>92.0</td>\n",
       "      <td>73.0</td>\n",
       "      <td>29</td>\n",
       "      <td>73</td>\n",
       "      <td>1</td>\n",
       "      <td>0</td>\n",
       "      <td>1</td>\n",
       "    </tr>\n",
       "    <tr>\n",
       "      <th>2</th>\n",
       "      <td>4.4</td>\n",
       "      <td>4999</td>\n",
       "      <td>17.0</td>\n",
       "      <td>4.0</td>\n",
       "      <td>11.0</td>\n",
       "      <td>3.0</td>\n",
       "      <td>2.0</td>\n",
       "      <td>1</td>\n",
       "      <td>0</td>\n",
       "      <td>1</td>\n",
       "      <td>1</td>\n",
       "      <td>1</td>\n",
       "    </tr>\n",
       "    <tr>\n",
       "      <th>3</th>\n",
       "      <td>4.2</td>\n",
       "      <td>724</td>\n",
       "      <td>46413.0</td>\n",
       "      <td>6229.0</td>\n",
       "      <td>1045.0</td>\n",
       "      <td>12416.0</td>\n",
       "      <td>5352.0</td>\n",
       "      <td>701</td>\n",
       "      <td>4595</td>\n",
       "      <td>1</td>\n",
       "      <td>0</td>\n",
       "      <td>1</td>\n",
       "    </tr>\n",
       "    <tr>\n",
       "      <th>4</th>\n",
       "      <td>3.9</td>\n",
       "      <td>2299</td>\n",
       "      <td>77.0</td>\n",
       "      <td>3.0</td>\n",
       "      <td>35.0</td>\n",
       "      <td>21.0</td>\n",
       "      <td>7.0</td>\n",
       "      <td>7</td>\n",
       "      <td>7</td>\n",
       "      <td>1</td>\n",
       "      <td>0</td>\n",
       "      <td>1</td>\n",
       "    </tr>\n",
       "  </tbody>\n",
       "</table>\n",
       "</div>"
      ],
      "text/plain": [
       "   Rating  actprice1  norating1  noreviews1  star_5f  star_4f  star_3f  \\\n",
       "0     3.9        999       38.0         7.0     17.0      9.0      6.0   \n",
       "1     3.8       1999      531.0        69.0    264.0     92.0     73.0   \n",
       "2     4.4       4999       17.0         4.0     11.0      3.0      2.0   \n",
       "3     4.2        724    46413.0      6229.0   1045.0  12416.0   5352.0   \n",
       "4     3.9       2299       77.0         3.0     35.0     21.0      7.0   \n",
       "\n",
       "   star_2f  star_1f  fulfilled1  maincateg_Women  platform_Flipkart  \n",
       "0        3        3           0                1                  1  \n",
       "1       29       73           1                0                  1  \n",
       "2        1        0           1                1                  1  \n",
       "3      701     4595           1                0                  1  \n",
       "4        7        7           1                0                  1  "
      ]
     },
     "execution_count": 36,
     "metadata": {},
     "output_type": "execute_result"
    }
   ],
   "source": [
    "X_train.head()"
   ]
  },
  {
   "cell_type": "code",
   "execution_count": 37,
   "id": "e5f44918",
   "metadata": {},
   "outputs": [
    {
     "data": {
      "text/plain": [
       "(15730, 12)"
      ]
     },
     "execution_count": 37,
     "metadata": {},
     "output_type": "execute_result"
    }
   ],
   "source": [
    "X_train.shape"
   ]
  },
  {
   "cell_type": "code",
   "execution_count": 38,
   "id": "65dec208",
   "metadata": {},
   "outputs": [
    {
     "data": {
      "text/plain": [
       "0     698\n",
       "1     999\n",
       "2    2749\n",
       "3     518\n",
       "4    1379\n",
       "Name: price1, dtype: int64"
      ]
     },
     "execution_count": 38,
     "metadata": {},
     "output_type": "execute_result"
    }
   ],
   "source": [
    "y_train.head()"
   ]
  },
  {
   "cell_type": "code",
   "execution_count": 39,
   "id": "f2304c7c",
   "metadata": {},
   "outputs": [],
   "source": [
    "import tensorflow as tf\n",
    "from tensorflow import keras"
   ]
  },
  {
   "cell_type": "code",
   "execution_count": 40,
   "id": "d5130965",
   "metadata": {},
   "outputs": [
    {
     "name": "stdout",
     "output_type": "stream",
     "text": [
      "WARNING:tensorflow:From C:\\Users\\Ayush\\miniconda3\\envs\\6.86x\\lib\\site-packages\\tensorflow\\python\\ops\\init_ops.py:1251: calling VarianceScaling.__init__ (from tensorflow.python.ops.init_ops) with dtype is deprecated and will be removed in a future version.\n",
      "Instructions for updating:\n",
      "Call initializer instance with the dtype argument instead of passing it to the constructor\n"
     ]
    }
   ],
   "source": [
    "model = tf.keras.models.Sequential([\n",
    "  tf.keras.layers.Flatten(input_shape=(12,)),\n",
    "  tf.keras.layers.Dense(24, activation='relu'),\n",
    "  tf.keras.layers.Dense(20, activation='relu'),\n",
    "  tf.keras.layers.Dense(16, activation='relu'),\n",
    "  tf.keras.layers.Dense(8, activation='relu'),\n",
    "  tf.keras.layers.Dense(1)\n",
    "])"
   ]
  },
  {
   "cell_type": "code",
   "execution_count": 41,
   "id": "ccf6c0f0",
   "metadata": {},
   "outputs": [
    {
     "name": "stdout",
     "output_type": "stream",
     "text": [
      "Epoch 1/15\n",
      "100/100 [==============================] - 1s 6ms/step - loss: 889948.6525 - accuracy: 0.0000e+00\n",
      "Epoch 2/15\n",
      "100/100 [==============================] - 1s 5ms/step - loss: 712971.4284 - accuracy: 0.0000e+00\n",
      "Epoch 3/15\n",
      "100/100 [==============================] - 1s 5ms/step - loss: 199208.1358 - accuracy: 1.2715e-06\n",
      "Epoch 4/15\n",
      "100/100 [==============================] - 1s 5ms/step - loss: 117122.8546 - accuracy: 0.0000e+00\n",
      "Epoch 5/15\n",
      "100/100 [==============================] - 1s 5ms/step - loss: 96596.9060 - accuracy: 0.0000e+00\n",
      "Epoch 6/15\n",
      "100/100 [==============================] - 1s 5ms/step - loss: 87974.7977 - accuracy: 0.0000e+00\n",
      "Epoch 7/15\n",
      "100/100 [==============================] - 0s 5ms/step - loss: 83928.4100 - accuracy: 0.0000e+00\n",
      "Epoch 8/15\n",
      "100/100 [==============================] - 1s 5ms/step - loss: 82111.1790 - accuracy: 0.0000e+00\n",
      "Epoch 9/15\n",
      "100/100 [==============================] - 1s 5ms/step - loss: 80824.4741 - accuracy: 0.0000e+00\n",
      "Epoch 10/15\n",
      "100/100 [==============================] - 0s 5ms/step - loss: 79994.2862 - accuracy: 0.0000e+00\n",
      "Epoch 11/15\n",
      "100/100 [==============================] - 0s 5ms/step - loss: 79359.2493 - accuracy: 0.0000e+00\n",
      "Epoch 12/15\n",
      "100/100 [==============================] - 1s 5ms/step - loss: 78873.8137 - accuracy: 0.0000e+00\n",
      "Epoch 13/15\n",
      "100/100 [==============================] - 1s 5ms/step - loss: 78396.5116 - accuracy: 0.0000e+00\n",
      "Epoch 14/15\n",
      "100/100 [==============================] - 1s 5ms/step - loss: 77935.8769 - accuracy: 0.0000e+00\n",
      "Epoch 15/15\n",
      "100/100 [==============================] - 1s 5ms/step - loss: 77541.8910 - accuracy: 0.0000e+00\n"
     ]
    }
   ],
   "source": [
    "model.compile(optimizer= 'adam',\n",
    "             loss = tf.keras.losses.MeanSquaredError(\n",
    "                       name='mean_squared_error'),\n",
    "             metrics = [tf.keras.metrics.Accuracy()])\n",
    "\n",
    "history = model.fit(\n",
    "    x = X_scaled,\n",
    "    y = y_train,\n",
    "    epochs = 15,\n",
    "    steps_per_epoch = 100\n",
    ")"
   ]
  },
  {
   "cell_type": "code",
   "execution_count": 42,
   "id": "c57556b0",
   "metadata": {},
   "outputs": [],
   "source": [
    "x_val = X_scaled[:100, :]\n",
    "y_val = y_train[:100]"
   ]
  },
  {
   "cell_type": "code",
   "execution_count": 43,
   "id": "75c346ea",
   "metadata": {},
   "outputs": [
    {
     "data": {
      "text/plain": [
       "0      698\n",
       "1      999\n",
       "2     2749\n",
       "3      518\n",
       "4     1379\n",
       "      ... \n",
       "95     629\n",
       "96     989\n",
       "97     499\n",
       "98     249\n",
       "99     605\n",
       "Name: price1, Length: 100, dtype: int64"
      ]
     },
     "execution_count": 43,
     "metadata": {},
     "output_type": "execute_result"
    }
   ],
   "source": [
    "y_val"
   ]
  },
  {
   "cell_type": "code",
   "execution_count": 44,
   "id": "dd597f7f",
   "metadata": {},
   "outputs": [],
   "source": [
    "pred_1 = model.predict(x_test_scale)"
   ]
  },
  {
   "cell_type": "code",
   "execution_count": 45,
   "id": "5a3eeea3",
   "metadata": {},
   "outputs": [
    {
     "data": {
      "text/plain": [
       "7154.376"
      ]
     },
     "execution_count": 45,
     "metadata": {},
     "output_type": "execute_result"
    }
   ],
   "source": [
    "pred_1.max()"
   ]
  },
  {
   "cell_type": "code",
   "execution_count": 46,
   "id": "13e24652",
   "metadata": {},
   "outputs": [],
   "source": [
    "pre_id = pd.DataFrame(np.round(pred_1,decimals=3),columns=['price1'])"
   ]
  },
  {
   "cell_type": "code",
   "execution_count": 47,
   "id": "e8a9464b",
   "metadata": {},
   "outputs": [],
   "source": [
    "pre_id['id'] = df_id[::]\n",
    "\n",
    "pre_id = pre_id[['id', 'price1']]"
   ]
  },
  {
   "cell_type": "code",
   "execution_count": 48,
   "id": "8ad74e32",
   "metadata": {},
   "outputs": [
    {
     "data": {
      "text/html": [
       "<div>\n",
       "<style scoped>\n",
       "    .dataframe tbody tr th:only-of-type {\n",
       "        vertical-align: middle;\n",
       "    }\n",
       "\n",
       "    .dataframe tbody tr th {\n",
       "        vertical-align: top;\n",
       "    }\n",
       "\n",
       "    .dataframe thead th {\n",
       "        text-align: right;\n",
       "    }\n",
       "</style>\n",
       "<table border=\"1\" class=\"dataframe\">\n",
       "  <thead>\n",
       "    <tr style=\"text-align: right;\">\n",
       "      <th></th>\n",
       "      <th>id</th>\n",
       "      <th>price1</th>\n",
       "    </tr>\n",
       "  </thead>\n",
       "  <tbody>\n",
       "    <tr>\n",
       "      <th>0</th>\n",
       "      <td>2242</td>\n",
       "      <td>388.609009</td>\n",
       "    </tr>\n",
       "    <tr>\n",
       "      <th>1</th>\n",
       "      <td>20532</td>\n",
       "      <td>305.670013</td>\n",
       "    </tr>\n",
       "    <tr>\n",
       "      <th>2</th>\n",
       "      <td>10648</td>\n",
       "      <td>474.782990</td>\n",
       "    </tr>\n",
       "    <tr>\n",
       "      <th>3</th>\n",
       "      <td>20677</td>\n",
       "      <td>1353.052002</td>\n",
       "    </tr>\n",
       "    <tr>\n",
       "      <th>4</th>\n",
       "      <td>12593</td>\n",
       "      <td>443.151001</td>\n",
       "    </tr>\n",
       "    <tr>\n",
       "      <th>...</th>\n",
       "      <td>...</td>\n",
       "      <td>...</td>\n",
       "    </tr>\n",
       "    <tr>\n",
       "      <th>5239</th>\n",
       "      <td>14033</td>\n",
       "      <td>384.505005</td>\n",
       "    </tr>\n",
       "    <tr>\n",
       "      <th>5240</th>\n",
       "      <td>297</td>\n",
       "      <td>770.161987</td>\n",
       "    </tr>\n",
       "    <tr>\n",
       "      <th>5241</th>\n",
       "      <td>18733</td>\n",
       "      <td>416.989990</td>\n",
       "    </tr>\n",
       "    <tr>\n",
       "      <th>5242</th>\n",
       "      <td>6162</td>\n",
       "      <td>251.895004</td>\n",
       "    </tr>\n",
       "    <tr>\n",
       "      <th>5243</th>\n",
       "      <td>13574</td>\n",
       "      <td>769.252991</td>\n",
       "    </tr>\n",
       "  </tbody>\n",
       "</table>\n",
       "<p>5244 rows × 2 columns</p>\n",
       "</div>"
      ],
      "text/plain": [
       "         id       price1\n",
       "0      2242   388.609009\n",
       "1     20532   305.670013\n",
       "2     10648   474.782990\n",
       "3     20677  1353.052002\n",
       "4     12593   443.151001\n",
       "...     ...          ...\n",
       "5239  14033   384.505005\n",
       "5240    297   770.161987\n",
       "5241  18733   416.989990\n",
       "5242   6162   251.895004\n",
       "5243  13574   769.252991\n",
       "\n",
       "[5244 rows x 2 columns]"
      ]
     },
     "execution_count": 48,
     "metadata": {},
     "output_type": "execute_result"
    }
   ],
   "source": [
    "pre_id"
   ]
  },
  {
   "cell_type": "code",
   "execution_count": 49,
   "id": "7f167821",
   "metadata": {},
   "outputs": [],
   "source": [
    "pre_id.to_csv(r'.\\hack_submission_4.csv',index=False)\n"
   ]
  },
  {
   "cell_type": "code",
   "execution_count": null,
   "id": "b2c48f62",
   "metadata": {},
   "outputs": [],
   "source": []
  },
  {
   "cell_type": "code",
   "execution_count": null,
   "id": "b877d805",
   "metadata": {},
   "outputs": [],
   "source": []
  },
  {
   "cell_type": "markdown",
   "id": "6982e5e2",
   "metadata": {},
   "source": [
    "## ExtraTreesSe"
   ]
  },
  {
   "cell_type": "code",
   "execution_count": 15,
   "id": "24bdccb0",
   "metadata": {},
   "outputs": [],
   "source": [
    "from sklearn.ensemble import ExtraTreesRegressor"
   ]
  },
  {
   "cell_type": "code",
   "execution_count": 16,
   "id": "b8849d74",
   "metadata": {},
   "outputs": [
    {
     "data": {
      "text/plain": [
       "Index(['Rating', 'actprice1', 'norating1', 'noreviews1', 'star_5f', 'star_4f',\n",
       "       'star_3f', 'star_2f', 'star_1f', 'fulfilled1', 'maincateg_Women',\n",
       "       'platform_Flipkart'],\n",
       "      dtype='object')"
      ]
     },
     "execution_count": 16,
     "metadata": {},
     "output_type": "execute_result"
    }
   ],
   "source": [
    "X_train.columns"
   ]
  },
  {
   "cell_type": "code",
   "execution_count": 17,
   "id": "95848bf2",
   "metadata": {},
   "outputs": [],
   "source": [
    "X_train_1 = X_train[['Rating', 'actprice1', 'star_5f', 'star_4f',\n",
    "       'star_3f', 'star_2f', 'star_1f', 'fulfilled1', 'maincateg_Women',\n",
    "       'platform_Flipkart']]"
   ]
  },
  {
   "cell_type": "code",
   "execution_count": 18,
   "id": "928bfa46",
   "metadata": {},
   "outputs": [],
   "source": [
    "from sklearn.preprocessing import StandardScaler\n",
    "sc_1 = StandardScaler()\n",
    "\n",
    "X_scaled_1 = sc_1.fit_transform(X_train_1)"
   ]
  },
  {
   "cell_type": "code",
   "execution_count": 19,
   "id": "a75f2e89",
   "metadata": {},
   "outputs": [
    {
     "data": {
      "text/plain": [
       "0    30.13%\n",
       "1    50.03%\n",
       "2    45.01%\n",
       "3    15.85%\n",
       "4    40.02%\n",
       "Name: Offer %, dtype: object"
      ]
     },
     "execution_count": 19,
     "metadata": {},
     "output_type": "execute_result"
    }
   ],
   "source": [
    "y_train_2 = data['Offer %']\n",
    "y_train_2.head()"
   ]
  },
  {
   "cell_type": "code",
   "execution_count": 20,
   "id": "012f88bf",
   "metadata": {},
   "outputs": [],
   "source": [
    "y = y_train_2.str.replace(\"%\", \"\")\n",
    "y = y.astype(float)"
   ]
  },
  {
   "cell_type": "code",
   "execution_count": 21,
   "id": "93426fd1",
   "metadata": {},
   "outputs": [
    {
     "data": {
      "text/plain": [
       "0        30.13\n",
       "1        50.03\n",
       "2        45.01\n",
       "3        15.85\n",
       "4        40.02\n",
       "         ...  \n",
       "15725    52.71\n",
       "15726    50.00\n",
       "15727    34.07\n",
       "15728    50.01\n",
       "15729    45.02\n",
       "Name: Offer %, Length: 15730, dtype: float64"
      ]
     },
     "execution_count": 21,
     "metadata": {},
     "output_type": "execute_result"
    }
   ],
   "source": [
    "y"
   ]
  },
  {
   "cell_type": "code",
   "execution_count": 63,
   "id": "f5e43127",
   "metadata": {},
   "outputs": [],
   "source": [
    "extra_tree_forest = ExtraTreesRegressor(n_estimators = 100, min_samples_split = 4, min_samples_leaf = 2, max_features = 4, bootstrap = True  )\n",
    "\n",
    "extra_tree_forest.fit(X_scaled_1, y)\n",
    "\n",
    "feature_importance = extra_tree_forest.feature_importances_\n",
    "\n",
    "feature_importance_normalized = np.std([tree.feature_importances_ for tree in \n",
    "                                        extra_tree_forest.estimators_],\n",
    "                                        axis = 0)"
   ]
  },
  {
   "cell_type": "code",
   "execution_count": 64,
   "id": "71187c91",
   "metadata": {},
   "outputs": [],
   "source": [
    "X_test_1 = X_test[['Rating', 'actprice1', 'star_5f', 'star_4f',\n",
    "       'star_3f', 'star_2f', 'star_1f', 'fulfilled1', 'maincateg_Women',\n",
    "       'platform_Flipkart']]"
   ]
  },
  {
   "cell_type": "code",
   "execution_count": 65,
   "id": "b9432af8",
   "metadata": {},
   "outputs": [],
   "source": [
    "X_test_scale = sc_1.transform(X_test_1)"
   ]
  },
  {
   "cell_type": "code",
   "execution_count": 66,
   "id": "79ac9053",
   "metadata": {},
   "outputs": [],
   "source": [
    "pred_offer = extra_tree_forest.predict(X_test_scale)"
   ]
  },
  {
   "cell_type": "code",
   "execution_count": 67,
   "id": "d442a37d",
   "metadata": {},
   "outputs": [
    {
     "data": {
      "text/plain": [
       "array([58.0653354 , 43.73544094, 53.3538659 , ..., 59.88413887,\n",
       "       55.68796244,  3.13048208])"
      ]
     },
     "execution_count": 67,
     "metadata": {},
     "output_type": "execute_result"
    }
   ],
   "source": [
    "pred_offer"
   ]
  },
  {
   "cell_type": "code",
   "execution_count": 68,
   "id": "bf2c3be4",
   "metadata": {},
   "outputs": [],
   "source": [
    "X_actual = X_test_1['actprice1']"
   ]
  },
  {
   "cell_type": "code",
   "execution_count": 69,
   "id": "f15aaf0c",
   "metadata": {},
   "outputs": [],
   "source": [
    "pred_2 =(1 - pred_offer/100)*X_actual"
   ]
  },
  {
   "cell_type": "code",
   "execution_count": 70,
   "id": "bde07692",
   "metadata": {},
   "outputs": [
    {
     "data": {
      "text/plain": [
       "0        418.927\n",
       "1        280.760\n",
       "2        465.995\n",
       "3       1149.561\n",
       "4        404.660\n",
       "          ...   \n",
       "5239     385.766\n",
       "5240     754.536\n",
       "5241     400.757\n",
       "5242     221.117\n",
       "5243     725.553\n",
       "Name: actprice1, Length: 5244, dtype: float64"
      ]
     },
     "execution_count": 70,
     "metadata": {},
     "output_type": "execute_result"
    }
   ],
   "source": [
    "pred_2 = np.round(pred_2,decimals=3)\n",
    "pred_2"
   ]
  },
  {
   "cell_type": "code",
   "execution_count": 54,
   "id": "9a27608c",
   "metadata": {},
   "outputs": [],
   "source": [
    "pre_id_1 = pd.DataFrame(pred_2,columns=['actprice1'])"
   ]
  },
  {
   "cell_type": "code",
   "execution_count": 41,
   "id": "08f6828c",
   "metadata": {},
   "outputs": [
    {
     "data": {
      "text/html": [
       "<div>\n",
       "<style scoped>\n",
       "    .dataframe tbody tr th:only-of-type {\n",
       "        vertical-align: middle;\n",
       "    }\n",
       "\n",
       "    .dataframe tbody tr th {\n",
       "        vertical-align: top;\n",
       "    }\n",
       "\n",
       "    .dataframe thead th {\n",
       "        text-align: right;\n",
       "    }\n",
       "</style>\n",
       "<table border=\"1\" class=\"dataframe\">\n",
       "  <thead>\n",
       "    <tr style=\"text-align: right;\">\n",
       "      <th></th>\n",
       "      <th>actprice1</th>\n",
       "    </tr>\n",
       "  </thead>\n",
       "  <tbody>\n",
       "    <tr>\n",
       "      <th>0</th>\n",
       "      <td>440.069</td>\n",
       "    </tr>\n",
       "    <tr>\n",
       "      <th>1</th>\n",
       "      <td>283.392</td>\n",
       "    </tr>\n",
       "    <tr>\n",
       "      <th>2</th>\n",
       "      <td>497.258</td>\n",
       "    </tr>\n",
       "    <tr>\n",
       "      <th>3</th>\n",
       "      <td>1341.360</td>\n",
       "    </tr>\n",
       "    <tr>\n",
       "      <th>4</th>\n",
       "      <td>421.874</td>\n",
       "    </tr>\n",
       "    <tr>\n",
       "      <th>...</th>\n",
       "      <td>...</td>\n",
       "    </tr>\n",
       "    <tr>\n",
       "      <th>5239</th>\n",
       "      <td>369.342</td>\n",
       "    </tr>\n",
       "    <tr>\n",
       "      <th>5240</th>\n",
       "      <td>863.196</td>\n",
       "    </tr>\n",
       "    <tr>\n",
       "      <th>5241</th>\n",
       "      <td>413.926</td>\n",
       "    </tr>\n",
       "    <tr>\n",
       "      <th>5242</th>\n",
       "      <td>237.778</td>\n",
       "    </tr>\n",
       "    <tr>\n",
       "      <th>5243</th>\n",
       "      <td>716.259</td>\n",
       "    </tr>\n",
       "  </tbody>\n",
       "</table>\n",
       "<p>5244 rows × 1 columns</p>\n",
       "</div>"
      ],
      "text/plain": [
       "      actprice1\n",
       "0       440.069\n",
       "1       283.392\n",
       "2       497.258\n",
       "3      1341.360\n",
       "4       421.874\n",
       "...         ...\n",
       "5239    369.342\n",
       "5240    863.196\n",
       "5241    413.926\n",
       "5242    237.778\n",
       "5243    716.259\n",
       "\n",
       "[5244 rows x 1 columns]"
      ]
     },
     "execution_count": 41,
     "metadata": {},
     "output_type": "execute_result"
    }
   ],
   "source": [
    "pre_id_1"
   ]
  },
  {
   "cell_type": "code",
   "execution_count": 42,
   "id": "162dd2fa",
   "metadata": {},
   "outputs": [],
   "source": [
    "pre_id_1['id'] = df_id[::]"
   ]
  },
  {
   "cell_type": "code",
   "execution_count": 43,
   "id": "6d1b0965",
   "metadata": {},
   "outputs": [],
   "source": [
    "pre_id_1 = pre_id_1[['id', 'actprice1']]"
   ]
  },
  {
   "cell_type": "code",
   "execution_count": 44,
   "id": "0175312b",
   "metadata": {},
   "outputs": [],
   "source": [
    "df_new = pre_id_1.rename(columns={'actprice1': 'price1'})"
   ]
  },
  {
   "cell_type": "code",
   "execution_count": 45,
   "id": "7a5c128b",
   "metadata": {},
   "outputs": [
    {
     "data": {
      "text/html": [
       "<div>\n",
       "<style scoped>\n",
       "    .dataframe tbody tr th:only-of-type {\n",
       "        vertical-align: middle;\n",
       "    }\n",
       "\n",
       "    .dataframe tbody tr th {\n",
       "        vertical-align: top;\n",
       "    }\n",
       "\n",
       "    .dataframe thead th {\n",
       "        text-align: right;\n",
       "    }\n",
       "</style>\n",
       "<table border=\"1\" class=\"dataframe\">\n",
       "  <thead>\n",
       "    <tr style=\"text-align: right;\">\n",
       "      <th></th>\n",
       "      <th>id</th>\n",
       "      <th>price1</th>\n",
       "    </tr>\n",
       "  </thead>\n",
       "  <tbody>\n",
       "    <tr>\n",
       "      <th>0</th>\n",
       "      <td>2242</td>\n",
       "      <td>440.069</td>\n",
       "    </tr>\n",
       "    <tr>\n",
       "      <th>1</th>\n",
       "      <td>20532</td>\n",
       "      <td>283.392</td>\n",
       "    </tr>\n",
       "    <tr>\n",
       "      <th>2</th>\n",
       "      <td>10648</td>\n",
       "      <td>497.258</td>\n",
       "    </tr>\n",
       "    <tr>\n",
       "      <th>3</th>\n",
       "      <td>20677</td>\n",
       "      <td>1341.360</td>\n",
       "    </tr>\n",
       "    <tr>\n",
       "      <th>4</th>\n",
       "      <td>12593</td>\n",
       "      <td>421.874</td>\n",
       "    </tr>\n",
       "    <tr>\n",
       "      <th>...</th>\n",
       "      <td>...</td>\n",
       "      <td>...</td>\n",
       "    </tr>\n",
       "    <tr>\n",
       "      <th>5239</th>\n",
       "      <td>14033</td>\n",
       "      <td>369.342</td>\n",
       "    </tr>\n",
       "    <tr>\n",
       "      <th>5240</th>\n",
       "      <td>297</td>\n",
       "      <td>863.196</td>\n",
       "    </tr>\n",
       "    <tr>\n",
       "      <th>5241</th>\n",
       "      <td>18733</td>\n",
       "      <td>413.926</td>\n",
       "    </tr>\n",
       "    <tr>\n",
       "      <th>5242</th>\n",
       "      <td>6162</td>\n",
       "      <td>237.778</td>\n",
       "    </tr>\n",
       "    <tr>\n",
       "      <th>5243</th>\n",
       "      <td>13574</td>\n",
       "      <td>716.259</td>\n",
       "    </tr>\n",
       "  </tbody>\n",
       "</table>\n",
       "<p>5244 rows × 2 columns</p>\n",
       "</div>"
      ],
      "text/plain": [
       "         id    price1\n",
       "0      2242   440.069\n",
       "1     20532   283.392\n",
       "2     10648   497.258\n",
       "3     20677  1341.360\n",
       "4     12593   421.874\n",
       "...     ...       ...\n",
       "5239  14033   369.342\n",
       "5240    297   863.196\n",
       "5241  18733   413.926\n",
       "5242   6162   237.778\n",
       "5243  13574   716.259\n",
       "\n",
       "[5244 rows x 2 columns]"
      ]
     },
     "execution_count": 45,
     "metadata": {},
     "output_type": "execute_result"
    }
   ],
   "source": [
    "\n",
    "df_new"
   ]
  },
  {
   "cell_type": "code",
   "execution_count": 184,
   "id": "f54b397a",
   "metadata": {},
   "outputs": [],
   "source": [
    "df_new.to_csv(r'.\\hack_submission_try.csv',index=False)"
   ]
  },
  {
   "cell_type": "code",
   "execution_count": null,
   "id": "f1cb22eb",
   "metadata": {},
   "outputs": [],
   "source": []
  },
  {
   "cell_type": "code",
   "execution_count": null,
   "id": "f8a0a0c3",
   "metadata": {},
   "outputs": [],
   "source": []
  }
 ],
 "metadata": {
  "kernelspec": {
   "display_name": "Python 3",
   "language": "python",
   "name": "python3"
  },
  "language_info": {
   "codemirror_mode": {
    "name": "ipython",
    "version": 3
   },
   "file_extension": ".py",
   "mimetype": "text/x-python",
   "name": "python",
   "nbconvert_exporter": "python",
   "pygments_lexer": "ipython3",
   "version": "3.6.13"
  }
 },
 "nbformat": 4,
 "nbformat_minor": 5
}
